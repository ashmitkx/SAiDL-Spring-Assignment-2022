{
 "cells": [
  {
   "cell_type": "code",
   "execution_count": 1,
   "metadata": {},
   "outputs": [],
   "source": [
    "import numpy as np\n",
    "import tensorflow as tf\n",
    "from tensorflow import keras\n",
    "from matplotlib import pyplot as plt"
   ]
  },
  {
   "cell_type": "code",
   "execution_count": 2,
   "metadata": {},
   "outputs": [],
   "source": [
    "dataset_url = \"https://www.robots.ox.ac.uk/~vgg/data/pets/data/images.tar.gz\"\n",
    "source_dir = '/root/.keras/datasets/images/'  # images to process\n",
    "save_dir = '/drive/colab/sr/images-cropped-196/'  # processed images"
   ]
  },
  {
   "cell_type": "code",
   "execution_count": 3,
   "metadata": {},
   "outputs": [
    {
     "data": {
      "application/vnd.google.colaboratory.intrinsic+json": {
       "type": "string"
      },
      "text/plain": [
       "'/root/.keras/datasets/oxford-iiit-pets'"
      ]
     },
     "execution_count": 3,
     "metadata": {},
     "output_type": "execute_result"
    }
   ],
   "source": [
    "keras.utils.get_file(origin=dataset_url, fname=\"oxford-iiit-pets\", untar=True)"
   ]
  },
  {
   "cell_type": "code",
   "execution_count": 4,
   "metadata": {},
   "outputs": [],
   "source": [
    "list_ds = tf.data.Dataset.list_files(source_dir + '*.jpg', shuffle=False)"
   ]
  },
  {
   "cell_type": "code",
   "execution_count": 12,
   "metadata": {},
   "outputs": [],
   "source": [
    "import os\n",
    "\n",
    "\n",
    "# randomly crop images from the dataset\n",
    "def random_crop(img, crop_x, crop_y):\n",
    "    img_x, img_y, _ = img.shape\n",
    "\n",
    "    # skip smaller images\n",
    "    if img_x <= crop_x or img_y <= crop_y:\n",
    "        return\n",
    "\n",
    "    max_x = img_x - crop_x\n",
    "    max_y = img_y - crop_y\n",
    "\n",
    "    x = np.random.randint(0, max_x)\n",
    "    y = np.random.randint(0, max_y)\n",
    "\n",
    "    cropped_img = img[x:x + crop_x, y:y + crop_y, :]\n",
    "    return cropped_img\n",
    "\n",
    "\n",
    "def save_img(img, title):\n",
    "    try:\n",
    "        keras.utils.save_img(save_dir + title, img)\n",
    "    except Exception:\n",
    "        print(title)  # print offenders\n",
    "        raise Exception\n",
    "\n",
    "\n",
    "def crop_image(filename):\n",
    "    # get the image title (name.ext)\n",
    "    parts = tf.strings.split(filename, os.sep)\n",
    "    title = bytes.decode(parts[-1].numpy())\n",
    "\n",
    "    # skip non .jpg files\n",
    "    if title.split('.')[-1] != 'jpg':\n",
    "        return\n",
    "\n",
    "    # skip files that have already been processed\n",
    "    if os.path.isfile(source_dir + title):\n",
    "        return\n",
    "\n",
    "    try:\n",
    "        img = tf.io.read_file(filename)\n",
    "        img = tf.io.decode_jpeg(img)\n",
    "        img = tf.image.convert_image_dtype(img, tf.float32)\n",
    "        img = random_crop(img, 196, 196)\n",
    "    except Exception:\n",
    "        print(title)   # print offenders\n",
    "        raise Exception\n",
    "\n",
    "    # if cropping failed because of img being too small\n",
    "    if img == None:\n",
    "        return\n",
    "\n",
    "    save_img(img, title)\n"
   ]
  },
  {
   "cell_type": "code",
   "execution_count": 13,
   "metadata": {},
   "outputs": [],
   "source": [
    "# for testing the crop_image function\n",
    "\n",
    "# file_path = next(iter(list_ds))\n",
    "# crop_image(file_path)"
   ]
  },
  {
   "cell_type": "code",
   "execution_count": 6,
   "metadata": {},
   "outputs": [],
   "source": [
    "for file_path in iter(list_ds):\n",
    "    crop_image(file_path)"
   ]
  }
 ],
 "metadata": {
  "interpreter": {
   "hash": "31f2aee4e71d21fbe5cf8b01ff0e069b9275f58929596ceb00d14d90e3e16cd6"
  },
  "kernelspec": {
   "display_name": "Python 3.7.12 64-bit",
   "language": "python",
   "name": "python3"
  },
  "language_info": {
   "codemirror_mode": {
    "name": "ipython",
    "version": 3
   },
   "file_extension": ".py",
   "mimetype": "text/x-python",
   "name": "python",
   "nbconvert_exporter": "python",
   "pygments_lexer": "ipython3",
   "version": "3.7.12"
  },
  "orig_nbformat": 4
 },
 "nbformat": 4,
 "nbformat_minor": 2
}
