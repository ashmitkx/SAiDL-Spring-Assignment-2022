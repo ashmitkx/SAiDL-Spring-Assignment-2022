{
 "cells": [
  {
   "cell_type": "code",
   "execution_count": 1,
   "metadata": {},
   "outputs": [],
   "source": [
    "import tensorflow as tf\n",
    "import tensorflow_addons as tfa\n",
    "from tensorflow import keras\n",
    "from matplotlib import pyplot as plt"
   ]
  },
  {
   "cell_type": "code",
   "execution_count": 6,
   "metadata": {},
   "outputs": [],
   "source": [
    "source_dir = '/drive/colab/sr/images-cropped-196/'  # images to process\n",
    "save_dir = '/drive/colab/sr/images-blurred-downsampled-96/'  # processed images"
   ]
  },
  {
   "cell_type": "code",
   "execution_count": 27,
   "metadata": {},
   "outputs": [],
   "source": [
    "list_ds = tf.data.Dataset.list_files(source_dir + '*.jpg', shuffle=False)"
   ]
  },
  {
   "cell_type": "code",
   "execution_count": 28,
   "metadata": {},
   "outputs": [],
   "source": [
    "import os\n",
    "\n",
    "def save_img(img, title):\n",
    "    try:\n",
    "        keras.utils.save_img(save_dir + title, img)\n",
    "    except Exception:\n",
    "        print(title)  # print offenders\n",
    "        raise Exception\n",
    "\n",
    "\n",
    "def blur_resize_image(filename):\n",
    "    # get the image title (name.ext)\n",
    "    parts = tf.strings.split(filename, os.sep)\n",
    "    title = bytes.decode(parts[-1].numpy())\n",
    "\n",
    "    # skip non .jpg files\n",
    "    if title.split('.')[-1] != 'jpg':\n",
    "        return\n",
    "\n",
    "    # skip files that have already been processed\n",
    "    if os.path.isfile(save_dir + title):\n",
    "        return\n",
    "\n",
    "    try:\n",
    "        img = tf.io.read_file(filename)\n",
    "        img = tf.io.decode_jpeg(img)\n",
    "        img = tf.image.convert_image_dtype(img, tf.float32)\n",
    "        img = tfa.image.gaussian_filter2d(img, filter_shape=(3,3))\n",
    "        img = tf.image.resize(\n",
    "            img,\n",
    "            (96, 96),\n",
    "            method=tf.image.ResizeMethod.AREA,\n",
    "            preserve_aspect_ratio=False,\n",
    "            antialias=False,\n",
    "        )\n",
    "    except Exception:\n",
    "        print(title)   # print offenders\n",
    "        raise Exception\n",
    "\n",
    "    save_img(img, title)\n"
   ]
  },
  {
   "cell_type": "code",
   "execution_count": 10,
   "metadata": {},
   "outputs": [],
   "source": [
    "# # for testing blur_image\n",
    "\n",
    "# file_path = next(iter(list_ds))\n",
    "# blur_resize_image(file_path)"
   ]
  },
  {
   "cell_type": "code",
   "execution_count": 29,
   "metadata": {},
   "outputs": [],
   "source": [
    "for file_path in iter(list_ds):\n",
    "    blur_resize_image(file_path)"
   ]
  }
 ],
 "metadata": {
  "interpreter": {
   "hash": "31f2aee4e71d21fbe5cf8b01ff0e069b9275f58929596ceb00d14d90e3e16cd6"
  },
  "kernelspec": {
   "display_name": "Python 3.7.12 64-bit",
   "language": "python",
   "name": "python3"
  },
  "language_info": {
   "codemirror_mode": {
    "name": "ipython",
    "version": 3
   },
   "file_extension": ".py",
   "mimetype": "text/x-python",
   "name": "python",
   "nbconvert_exporter": "python",
   "pygments_lexer": "ipython3",
   "version": "3.7.12"
  },
  "orig_nbformat": 4
 },
 "nbformat": 4,
 "nbformat_minor": 2
}
